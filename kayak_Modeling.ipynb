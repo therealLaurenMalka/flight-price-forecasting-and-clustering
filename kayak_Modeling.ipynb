{
 "cells": [
  {
   "cell_type": "markdown",
   "id": "b4acf57f",
   "metadata": {},
   "source": [
    "# Flight Price Forecast – Kayak\n",
    "\n",
    "## Table of Contents\n",
    "- [Introduction](#introduction)\n",
    "- [Imports](#imports)\n",
    "- [Data Preprocessing](#data-preprocessing)\n",
    "- [Linear Regression](#linear-regression)\n",
    "- [Decision Tree](#decision-tree)\n",
    "- [Gaussian Process Regression](#gaussian-process-regression)\n",
    "- [Random Forest](#random-forest)\n",
    "- [GridSearchCV](#gridsearchcv)\n",
    "- [KNN Regressor](#knn-regressor)\n",
    "- [MLP Regressor](#mlp-regressor)\n",
    "- [XG Boost Regressor](#xg-boost-regressor)\n",
    "- [Hist Gradient Boosting](#hist-gradient-boosting)\n",
    "- [Best Performance with Best Parameters](#best-performance-with-best-parameters)\n",
    "- [Feature Importance](#feature-importance)\n",
    "- [Conclusions](#conclusions)\n",
    "\n",
    "---\n",
    "\n",
    "## Introduction\n",
    "\n",
    "The provided Python code develops a machine learning pipeline for predicting flight prices, starting with data preprocessing such as cleaning and converting price data, date extraction, duration conversion, and numeric encoding of categorical features like flight stops.  \n",
    "The pipeline evaluates multiple regression methods, including Linear Regression, Decision Trees, Gaussian Process, Random Forests (with GridSearchCV optimization), K-Nearest Neighbors, Multi-layer Perceptron, XGBoost, and HistGradientBoostingRegressor, comparing their performance using metrics like R², RMSE, MSE, and MAE.\n",
    "\n",
    "**Our Top models:** *\"Random Forest\"*, *\"XGBoost\"*, and *\"HistGradientBoosting\"* regressors demonstrated the strongest predictive performances, while significantly outperforming basic linear models.  \n",
    "Using visualization tools such as residual plots, permutation importance, and predicted-versus-actual graphs provided insights into model accuracy and feature relevance.\n"
   ]
  },
  {
   "cell_type": "markdown",
   "id": "41217169",
   "metadata": {},
   "source": [
    "# Imports"
   ]
  },
  {
   "cell_type": "code",
   "execution_count": 1,
   "id": "1376b7b8",
   "metadata": {},
   "outputs": [],
   "source": [
    "import numpy as np\n",
    "import pandas as pd\n",
    "import matplotlib.pyplot as plt\n",
    "import seaborn as sns\n",
    "import xgboost as xgb\n",
    "import shap"
   ]
  },
  {
   "cell_type": "code",
   "execution_count": 2,
   "id": "e128ac08",
   "metadata": {},
   "outputs": [],
   "source": [
    "from sklearn.linear_model import LinearRegression\n",
    "from sklearn.tree import DecisionTreeRegressor\n",
    "from sklearn.gaussian_process import GaussianProcessRegressor\n",
    "\n",
    "from sklearn.ensemble import RandomForestRegressor\n",
    "from sklearn.neighbors import KNeighborsRegressor\n",
    "from sklearn.neural_network import MLPRegressor\n",
    "\n",
    "from sklearn.model_selection import train_test_split\n",
    "\n",
    "from sklearn.metrics import r2_score, mean_squared_error, mean_absolute_error\n",
    "\n",
    "from sklearn.preprocessing import StandardScaler, MinMaxScaler\n",
    "\n",
    "from sklearn.inspection import permutation_importance\n",
    "\n",
    "from sklearn.gaussian_process.kernels import RBF, DotProduct, Matern, RationalQuadratic, WhiteKernel\n",
    "from sklearn.model_selection import GridSearchCV\n",
    "from sklearn.ensemble import RandomForestRegressor\n",
    "from sklearn.neighbors import KNeighborsRegressor\n",
    "from sklearn.neural_network import MLPRegressor\n",
    "from xgboost import XGBRegressor\n",
    "from sklearn.ensemble import HistGradientBoostingRegressor\n",
    "from sklearn.inspection import partial_dependence, PartialDependenceDisplay"
   ]
  },
  {
   "cell_type": "markdown",
   "id": "2d0cca4f",
   "metadata": {},
   "source": [
    "# Data Preprocessing"
   ]
  },
  {
   "cell_type": "code",
   "execution_count": 5,
   "id": "1a8cac71",
   "metadata": {},
   "outputs": [
    {
     "name": "stdout",
     "output_type": "stream",
     "text": [
      "   departure_hour departure_airport  flight_length  landing_hour  \\\n",
      "0       13.833333               LGW             75     16.083333   \n",
      "1       18.166667               LGW             80     20.500000   \n",
      "2       16.166667               LGW             75     18.416667   \n",
      "3       16.516667               LON            138     19.816667   \n",
      "4       12.750000               LGW             80     15.083333   \n",
      "\n",
      "  landing_airport to_dest_company  return_departure_hour  \\\n",
      "0             CDG         easyJet              21.166667   \n",
      "1             CDG         easyJet              10.250000   \n",
      "2             ORY         Vueling              16.583333   \n",
      "3             PAR        Eurostar               7.150000   \n",
      "4             ORY         Vueling              16.000000   \n",
      "\n",
      "  return_departure_airport  return_flight_length  return_landing_hour  ...  \\\n",
      "0                      CDG                    65            21.250000  ...   \n",
      "1                      CDG                    80            10.583333  ...   \n",
      "2                      CDG                    65            16.666667  ...   \n",
      "3                      PAR                   141             8.500000  ...   \n",
      "4                      CDG                    75            16.250000  ...   \n",
      "\n",
      "  origin_city destination_city  departure_date  return_date  website  \\\n",
      "0      LONDON            PARIS      2025-03-02   2025-03-07    Kayak   \n",
      "1      LONDON            PARIS      2025-03-20   2025-03-25    Kayak   \n",
      "2      LONDON            PARIS      2025-03-04   2025-03-06    Kayak   \n",
      "3      LONDON            PARIS      2025-03-11   2025-03-14    Kayak   \n",
      "4      LONDON            PARIS      2025-03-01   2025-03-04    Kayak   \n",
      "\n",
      "   layover_time return_layover_time day_of_week         route    time_category  \n",
      "0             0                   0      Sunday  LONDON_PARIS  Afternoon_12_18  \n",
      "1             0                   0    Thursday  LONDON_PARIS    Evening_18_24  \n",
      "2             0                   0     Tuesday  LONDON_PARIS  Afternoon_12_18  \n",
      "3            53                  51     Tuesday  LONDON_PARIS  Afternoon_12_18  \n",
      "4             0                   0    Saturday  LONDON_PARIS  Afternoon_12_18  \n",
      "\n",
      "[5 rows x 27 columns]\n",
      "<class 'pandas.core.frame.DataFrame'>\n",
      "RangeIndex: 85764 entries, 0 to 85763\n",
      "Data columns (total 27 columns):\n",
      " #   Column                    Non-Null Count  Dtype  \n",
      "---  ------                    --------------  -----  \n",
      " 0   departure_hour            85764 non-null  float64\n",
      " 1   departure_airport         85764 non-null  object \n",
      " 2   flight_length             85764 non-null  int64  \n",
      " 3   landing_hour              85764 non-null  float64\n",
      " 4   landing_airport           85764 non-null  object \n",
      " 5   to_dest_company           85764 non-null  object \n",
      " 6   return_departure_hour     85764 non-null  float64\n",
      " 7   return_departure_airport  85764 non-null  object \n",
      " 8   return_flight_length      85764 non-null  int64  \n",
      " 9   return_landing_hour       85764 non-null  float64\n",
      " 10  return_landing_airport    85764 non-null  object \n",
      " 11  return_company            85764 non-null  object \n",
      " 12  price                     85764 non-null  float64\n",
      " 13  layover                   85764 non-null  bool   \n",
      " 14  ttt                       85764 non-null  int64  \n",
      " 15  los                       85764 non-null  int64  \n",
      " 16  snapshot_date             85764 non-null  object \n",
      " 17  origin_city               85764 non-null  object \n",
      " 18  destination_city          85764 non-null  object \n",
      " 19  departure_date            85764 non-null  object \n",
      " 20  return_date               85764 non-null  object \n",
      " 21  website                   85764 non-null  object \n",
      " 22  layover_time              85764 non-null  int64  \n",
      " 23  return_layover_time       85764 non-null  int64  \n",
      " 24  day_of_week               85764 non-null  object \n",
      " 25  route                     85764 non-null  object \n",
      " 26  time_category             85764 non-null  object \n",
      "dtypes: bool(1), float64(5), int64(6), object(15)\n",
      "memory usage: 17.1+ MB\n",
      "None\n"
     ]
    }
   ],
   "source": [
    "\n",
    "df = pd.read_csv('kayak_cleaned.csv')\n",
    "\n",
    "\n",
    "print(df.head())\n",
    "print(df.info())"
   ]
  },
  {
   "cell_type": "code",
   "execution_count": null,
   "id": "b47a8db7",
   "metadata": {},
   "outputs": [],
   "source": []
  }
 ],
 "metadata": {
  "kernelspec": {
   "display_name": "venv",
   "language": "python",
   "name": "python3"
  },
  "language_info": {
   "codemirror_mode": {
    "name": "ipython",
    "version": 3
   },
   "file_extension": ".py",
   "mimetype": "text/x-python",
   "name": "python",
   "nbconvert_exporter": "python",
   "pygments_lexer": "ipython3",
   "version": "3.12.5"
  }
 },
 "nbformat": 4,
 "nbformat_minor": 5
}
